{
 "cells": [
  {
   "cell_type": "markdown",
   "metadata": {},
   "source": [
    "# Introduction to Quantum Computing with Python and Qiskit\n",
    "<img src=\"pics/qc.jpg\">"
   ]
  },
  {
   "cell_type": "markdown",
   "metadata": {},
   "source": [
    "---\n",
    "# About Me\n",
    "---\n",
    "\n",
    "Sara Ayman Metwalli  \n",
    "I am 28 years old from Egypt  \n",
    "Bachelor Degree in Communications and Electronics Engineering in 2014 and Masters Degree in Computer and Communications Engineering from Tokyo Institute of Technology in 2018.  \n",
    "\n",
    "Now, I work with AQUA (Advancing QUantum Architecture) group in Keio University as a researcher.\n",
    "<img src=\"pics/AQUA.png\">\n",
    "\n",
    "For more information about me: https://sara-ayman-metwalli.jimdosite.com  \n",
    "For more information about AQUA: http://aqua.sfc.wide.ad.jp/home.html"
   ]
  },
  {
   "cell_type": "markdown",
   "metadata": {},
   "source": [
    "----\n",
    "# What is \"Quantum Computing\"?\n",
    "----------\n",
    "Quantum computing is the use of quantum-mechanical phenomena such as superposition and entanglement to perform computation.\n",
    "\n",
    "\n",
    "What is entanglement? and what does superposition mean?\n",
    "\n",
    "\n",
    "To explain these important concepts, we first need to understand what is a \"Qubit\"\n",
    "\n",
    "<img src=\"pics/thinking_man.jpg\">"
   ]
  },
  {
   "cell_type": "markdown",
   "metadata": {},
   "source": [
    "## Superposition\n",
    "---\n",
    "<img src=\"pics/cat.png\">\n",
    "\n",
    "Superposition may be the most famous quantum mechanics term ever! I guarantee you have heard of it before, not directly perhaps, but as the infamous Schrodinger’s Cat.\n",
    "\n",
    "Assume you have a cat and a sealed bottle of poison in a closed box together. The question now is, how would you know if the poison bottle broke open and the cat died or if the cat is still alive inside the box?\n",
    "\n",
    "The cat state remains a mystery, that is until we finally open the box. Once we do that, the superposition will collapse, and the cat will be either 100% dead or 100% alive."
   ]
  },
  {
   "cell_type": "markdown",
   "metadata": {},
   "source": [
    "## Qubits\n",
    "---\n",
    "<img src=\"pics/qubit.jpeg\">\n",
    "\n",
    "Qubits are the basic unit of data in quantum computing, and it’s the equivalent of bits in classical computing. Any bit can have a value of 0 or 1, so does qubits, to differentiate between them, we use something called the Dirac Style (kit notation) to represent qubits. Instead of 0, 1, we write |0⟩ and |1⟩ and we read that as “zero state,” or “one state.”"
   ]
  },
  {
   "cell_type": "markdown",
   "metadata": {},
   "source": [
    "## Entanglement\n",
    "---\n",
    "Entanglement is a physical phenomenon that refers to the relation between two or more particles — or, to generalize it, qubits — that affect their properties such that we can not describe the state of one of them independently of the others. \n",
    "\n",
    "One of the most commonly used qubits is photon spins. A photon can either have spin up (one state) or spin down (zero states). If we have two entangled photons, then they must have opposite spins, if one is up then the other must be down.\n",
    "\n",
    "<img src=\"pics/int.png\">\n"
   ]
  },
  {
   "cell_type": "markdown",
   "metadata": {},
   "source": [
    "# Coding Time\n",
    "---\n",
    "\n",
    "How can we represent qubits in code?\n",
    "\n",
    "Use the Python *Qiskit* Module."
   ]
  },
  {
   "cell_type": "code",
   "execution_count": null,
   "metadata": {},
   "outputs": [],
   "source": [
    "!pip install qiskit\n",
    "!pip install matplotlib"
   ]
  },
  {
   "cell_type": "code",
   "execution_count": 1,
   "metadata": {},
   "outputs": [],
   "source": [
    "#Codes in this notebook are inspired by Quantum Inspire Website\n",
    "#This code is written by: Sara A. Metwalli for the Woman Who Code Python chapter\n",
    "\n",
    "#Libraries needed to implement and simulate quantum circuits\n",
    "from qiskit import QuantumRegister, ClassicalRegister, QuantumCircuit, Aer, execute \n",
    "#Custem functions to simplify answers\n",
    "import Our_Qiskit_Functions as oq #a part of the libabry presented in arXiv:1903.04359v1.\n",
    "\n",
    "\n",
    "#Initialize backends simulators to visualize circuits\n",
    "S_simulator = Aer.backends(name='statevector_simulator')[0]\n",
    "Q_simulator = Aer.backends(name='qasm_simulator')[0]\n",
    "\n",
    "#Create quantum registers (to hold qubits)\n",
    "q = QuantumRegister(2)\n",
    "#Classical register to hold classical bits (Used to measure results)\n",
    "c = ClassicalRegister(2)\n",
    "#Create a quantum circuit using the above registers\n",
    "qc = QuantumCircuit(q,c)"
   ]
  },
  {
   "cell_type": "markdown",
   "metadata": {},
   "source": [
    "# Quantum Gates\n",
    "---\n",
    "\n",
    "Programing quantum computers is now done on a gate level, similar to classical gates.\n",
    "\n",
    "Now\n",
    "\n",
    "Let's talk about most common quantum gates"
   ]
  },
  {
   "cell_type": "markdown",
   "metadata": {},
   "source": [
    "## Identity Operator\n",
    "---\n",
    "\n",
    "The Identity gate (has a symbol I) is a single qubit gate that leaves the state of the qubit unchanged. \n",
    "\n",
    "<img src=\"pics/the-I-gate.gif\">\n",
    "\n"
   ]
  },
  {
   "cell_type": "code",
   "execution_count": null,
   "metadata": {},
   "outputs": [],
   "source": [
    "#1- Iden operator\n",
    "qc.iden(q[0])\n",
    "print(oq.Wavefunction(qc))\n",
    "qc.draw(output = \"mpl\")"
   ]
  },
  {
   "cell_type": "markdown",
   "metadata": {},
   "source": [
    "## NOT Gate\n",
    "---\n",
    "\n",
    "The NOT gate takes a qubits and flips its state!\n",
    "\n",
    "<img src=\"pics/the-not-gate.gif\">"
   ]
  },
  {
   "cell_type": "code",
   "execution_count": null,
   "metadata": {},
   "outputs": [],
   "source": [
    "#2- NOT gate\n",
    "qc.x(q[0])\n",
    "print(oq.Wavefunction(qc))\n",
    "qc.draw(output = \"mpl\")"
   ]
  },
  {
   "cell_type": "markdown",
   "metadata": {},
   "source": [
    "## Controlled-NOT Gate (Toffoli Gate)\n",
    "---\n",
    "\n",
    "The controlled-NOT is a 2-qubit gate that uses one qubit to control the state of the other.\n",
    "\n",
    "<img src=\"pics/the-cnot-gate.gif\">"
   ]
  },
  {
   "cell_type": "code",
   "execution_count": null,
   "metadata": {},
   "outputs": [],
   "source": [
    "#3- Controlled-NOT\n",
    "qc.cx(q[0],q[1])\n",
    "print(oq.Wavefunction(qc))\n",
    "qc.draw(output = \"mpl\")"
   ]
  },
  {
   "cell_type": "markdown",
   "metadata": {},
   "source": [
    "## The Hadamard Gate\n",
    "---\n",
    "\n",
    "The Hadamard gate (H) is the magic gate. It is the gate responsible for creating the superposition of states. This gate puts the qubit in 50/50 superposition of states |0⟩ and |1⟩ despite whether the input state was |0⟩ or|1⟩.\n",
    "\n",
    "<img src=\"pics/the-h-gate.gif\">"
   ]
  },
  {
   "cell_type": "code",
   "execution_count": null,
   "metadata": {},
   "outputs": [],
   "source": [
    "#4- Hadamard\n",
    "qc.h(q[1])\n",
    "print(oq.Wavefunction(qc))\n",
    "qc.draw(output = \"mpl\")"
   ]
  },
  {
   "cell_type": "markdown",
   "metadata": {},
   "source": [
    "# Quantum basis\n",
    "---\n",
    "\n",
    "|0> base is the zero state  \n",
    "|1> base is the one state  \n",
    "|+> base is the Hadamard of the |0> state  \n",
    "|-> base is the Hadamard of the |1> state  \n",
    "\n",
    "\n",
    "<img src=\"pics/5.png\">"
   ]
  },
  {
   "cell_type": "markdown",
   "metadata": {},
   "source": [
    "# Quantum Circuit Simulators\n",
    "---\n",
    "\n",
    "Quantum circuit simulators are special tools that allow you to build and simulate quantum circuits without needing to write any code or perform any mathematical tricks.\n",
    "\n",
    "<a href=\"https://quantum-computing.ibm.com/composer\">IBMQ Experience</a>: IBM offers a drag-and-drop circuit composer that allows you to build your circuits and see the results."
   ]
  },
  {
   "cell_type": "markdown",
   "metadata": {},
   "source": [
    "# Our First Quantum Circuit\n",
    "---\n",
    "Assume we want to create a circuit that flips the last qubit of any given state only if it was 1. For example, the state |1011⟩ would become |1010⟩ because the last bit was 1. However, if the input state is |1100⟩, the circuit won’t make any changes and will return the same state. How can I achieve that?\n",
    "\n",
    "Initially, all qubits are set to the |0⟩ state, so we need to create the starting state, ex, state |1011⟩ first, and then apply some gates to flip the last digit of that state.\n",
    "Before we start, the way states are usually read is from right to left, which in the composer goes from top to bottom.\n",
    "\n",
    "<img src=\"pics/state.png\">\n",
    "\n"
   ]
  },
  {
   "cell_type": "markdown",
   "metadata": {},
   "source": [
    "## Using the simulator\n",
    "---\n",
    "\n",
    "### Steps to solving the problem\n",
    "Step 1: Create the starting|1011⟩ state\n",
    "Flip the last qubit.\n",
    "\n",
    "<img src=\"pics/sim.png\">"
   ]
  },
  {
   "cell_type": "markdown",
   "metadata": {},
   "source": [
    "## Using code\n",
    "---"
   ]
  },
  {
   "cell_type": "code",
   "execution_count": 4,
   "metadata": {},
   "outputs": [
    {
     "data": {
      "text/html": [
       "<pre style=\"word-wrap: normal;white-space: pre;background: #fff0;line-height: 1.1;font-family: &quot;Courier New&quot;,Courier,monospace\">      ┌───┐          \n",
       "q3_0: ┤ X ├──────────\n",
       "      └───┘          \n",
       "q3_1: ───────────────\n",
       "      ┌───┐          \n",
       "q3_2: ┤ X ├──────────\n",
       "      ├───┤     ┌───┐\n",
       "q3_3: ┤ X ├──■──┤ X ├\n",
       "      └───┘┌─┴─┐└─┬─┘\n",
       "q3_4: ─────┤ X ├──■──\n",
       "           └───┘     \n",
       "c3_0: ═══════════════\n",
       "                     \n",
       "c3_1: ═══════════════\n",
       "                     \n",
       "c3_2: ═══════════════\n",
       "                     \n",
       "c3_3: ═══════════════\n",
       "                     </pre>"
      ],
      "text/plain": [
       "      ┌───┐          \n",
       "q3_0: ┤ X ├──────────\n",
       "      └───┘          \n",
       "q3_1: ───────────────\n",
       "      ┌───┐          \n",
       "q3_2: ┤ X ├──────────\n",
       "      ├───┤     ┌───┐\n",
       "q3_3: ┤ X ├──■──┤ X ├\n",
       "      └───┘┌─┴─┐└─┬─┘\n",
       "q3_4: ─────┤ X ├──■──\n",
       "           └───┘     \n",
       "c3_0: ═══════════════\n",
       "                     \n",
       "c3_1: ═══════════════\n",
       "                     \n",
       "c3_2: ═══════════════\n",
       "                     \n",
       "c3_3: ═══════════════\n",
       "                     "
      ]
     },
     "execution_count": 4,
     "metadata": {},
     "output_type": "execute_result"
    }
   ],
   "source": [
    "#Create the circuit and add tha gates\n",
    "q = QuantumRegister(5)\n",
    "c = ClassicalRegister(4)\n",
    "qc = QuantumCircuit(q,c)\n",
    "qc.x(q[0])\n",
    "qc.x(q[2])\n",
    "qc.x(q[3])\n",
    "qc.cx(q[3],q[4])\n",
    "qc.cx(q[4],q[3])\n",
    "qc.draw(output = \"mpl\")"
   ]
  },
  {
   "cell_type": "code",
   "execution_count": 11,
   "metadata": {},
   "outputs": [
    {
     "data": {
      "text/plain": [
       "'1024|1010>   '"
      ]
     },
     "execution_count": 11,
     "metadata": {},
     "output_type": "execute_result"
    }
   ],
   "source": [
    "#Measure the answer \n",
    "from qiskit.tools.visualization import plot_histogram\n",
    "qc.measure(q[:4],c)\n",
    "oq.Measurement(qc,shots=1024) #Displays measurement in ket-notation "
   ]
  },
  {
   "cell_type": "code",
   "execution_count": 12,
   "metadata": {},
   "outputs": [
    {
     "data": {
      "image/png": "[encoded data removed]",
      "text/plain": [
       "<Figure size 1573.63x385.28 with 1 Axes>"
      ]
     },
     "execution_count": 12,
     "metadata": {},
     "output_type": "execute_result"
    }
   ],
   "source": [
    "qc.draw(output = \"mpl\") #Final circuit"
   ]
  },
  {
   "cell_type": "code",
   "execution_count": 13,
   "metadata": {},
   "outputs": [
    {
     "data": {
      "image/png": "[encoded data removed]",
      "text/plain": [
       "<Figure size 504x360 with 1 Axes>"
      ]
     },
     "execution_count": 13,
     "metadata": {},
     "output_type": "execute_result"
    }
   ],
   "source": [
    "#Execute the circuit\n",
    "ex = execute(qc, Q_simulator, shots = 1024)\n",
    "res = ex.result()\n",
    "M = res.get_counts(qc)\n",
    "\n",
    "#Plot the results\n",
    "plot_histogram(M, bar_labels=False)"
   ]
  }
 ],
 "metadata": {
  "kernelspec": {
   "display_name": "Python 3",
   "language": "python",
   "name": "python3"
  },
  "language_info": {
   "codemirror_mode": {
    "name": "ipython",
    "version": 3
   },
   "file_extension": ".py",
   "mimetype": "text/x-python",
   "name": "python",
   "nbconvert_exporter": "python",
   "pygments_lexer": "ipython3",
   "version": "3.7.3"
  },
  "latex_envs": {
   "LaTeX_envs_menu_present": true,
   "autoclose": true,
   "autocomplete": true,
   "bibliofile": "biblio.bib",
   "cite_by": "apalike",
   "current_citInitial": 1,
   "eqLabelWithNumbers": true,
   "eqNumInitial": 1,
   "hotkeys": {
    "equation": "Ctrl-E",
    "itemize": "Ctrl-I"
   },
   "labels_anchors": false,
   "latex_user_defs": false,
   "report_style_numbering": false,
   "user_envs_cfg": false
  },
  "toc": {
   "base_numbering": 1,
   "nav_menu": {},
   "number_sections": true,
   "sideBar": true,
   "skip_h1_title": false,
   "title_cell": "Table of Contents",
   "title_sidebar": "Contents",
   "toc_cell": false,
   "toc_position": {},
   "toc_section_display": true,
   "toc_window_display": false
  }
 },
 "nbformat": 4,
 "nbformat_minor": 2
}

{
 "cells": [
  {
   "cell_type": "markdown",
   "metadata": {},
   "source": [
    "# Introduction to Quantum Computing with Python and Qiskit\n",
    "<img src=\"pics/qc.jpg\">"
   ]
  },
  {
   "cell_type": "markdown",
   "metadata": {},
   "source": [
    "---\n",
    "# About Me\n",
    "---\n",
    "\n",
    "Sara Ayman Metwalli  \n",
    "I am 28 years old from Egypt  \n",
    "Bachelor Degree in Communications and Electronics Engineering in 2014 and Masters Degree in Computer and Communications Engineering from Tokyo Institute of Technology in 2018.  \n",
    "\n",
    "Now, I work with AQUA (Advancing QUantum Architecture) group in Keio University as a researcher.\n",
    "<img src=\"pics/AQUA.png\">\n",
    "\n",
    "For more information about me: https://sara-ayman-metwalli.jimdosite.com  \n",
    "For more information about AQUA: http://aqua.sfc.wide.ad.jp/home.html"
   ]
  },
  {
   "cell_type": "markdown",
   "metadata": {},
   "source": [
    "----\n",
    "# What is \"Quantum Computing\"?\n",
    "----------\n",
    "Quantum computing is the use of quantum-mechanical phenomena such as superposition and entanglement to perform computation.\n",
    "\n",
    "\n",
    "What is entanglement? and what does superposition mean?\n",
    "\n",
    "\n",
    "To explain these important concepts, we first need to understand what is a \"Qubit\"\n",
    "\n",
    "<img src=\"pics/thinking_man.jpg\">"
   ]
  },
  {
   "cell_type": "markdown",
   "metadata": {},
   "source": [
    "## Superposition\n",
    "---\n",
    "<img src=\"pics/cat.png\">\n",
    "\n",
    "Superposition may be the most famous quantum mechanics term ever! I guarantee you have heard of it before, not directly perhaps, but as the infamous Schrodinger’s Cat.\n",
    "\n",
    "Assume you have a cat and a sealed bottle of poison in a closed box together. The question now is, how would you know if the poison bottle broke open and the cat died or if the cat is still alive inside the box?\n",
    "\n",
    "The cat state remains a mystery, that is until we finally open the box. Once we do that, the superposition will collapse, and the cat will be either 100% dead or 100% alive."
   ]
  },
  {
   "cell_type": "markdown",
   "metadata": {},
   "source": [
    "## Qubits\n",
    "---\n",
    "<img src=\"pics/qubit.jpeg\">\n",
    "\n",
    "Qubits are the basic unit of data in quantum computing, and it’s the equivalent of bits in classical computing. Any bit can have a value of 0 or 1, so does qubits, to differentiate between them, we use something called the Dirac Style (kit notation) to represent qubits. Instead of 0, 1, we write |0⟩ and |1⟩ and we read that as “zero state,” or “one state.”"
   ]
  },
  {
   "cell_type": "markdown",
   "metadata": {},
   "source": [
    "## Entanglement\n",
    "---\n",
    "Entanglement is a physical phenomenon that refers to the relation between two or more particles — or, to generalize it, qubits — that affect their properties such that we can not describe the state of one of them independently of the others. \n",
    "\n",
    "One of the most commonly used qubits is photon spins. A photon can either have spin up (one state) or spin down (zero states). If we have two entangled photons, then they must have opposite spins, if one is up then the other must be down.\n",
    "\n",
    "<img src=\"pics/int.png\">\n"
   ]
  },
  {
   "cell_type": "markdown",
   "metadata": {},
   "source": [
    "# Existing Tools for QC\n",
    "---\n",
    "|Name            |Type               |Site                                                                                        |Year Released      |Company                                         |Language                           |Info                                               |Extra Links                                             |Pros                                                   |Cons                                  |\n",
    "|----------------|-------------------|--------------------------------------------------------------------------------------------|-------------------|------------------------------------------------|-----------------------------------|---------------------------------------------------|--------------------------------------------------------|-------------------------------------------------------|--------------------------------------|\n",
    "|Qiskit          |Programming-based  |https://qiskit.org/                                                                         |2017               |IBM                                             |Python                             |Most popular tool                                  |https://github.com/Qiskit/qiskit                        |Allows users to execute their codes on actual devices  |Installing is a hastle                |\n",
    "|QuTIP           |Programming-based  |http://qutip.org/                                                                           |2012               |J. R. Johansson, P. D. Nation, and F. Nori      |Python                             |Very similar to Qiskit (syntax-wise)               |https://github.com/qutip                                |                                                       |Only simulation                       |\n",
    "|Q#              |Programming-based  |https://docs.microsoft.com/en-us/quantum/overview/what-is-qsharp-and-qdk?view=qsharp-preview|2017               |Microsoft                                       |New open-source                    |Q# draws familiar elements from Python, C#, and F# |https://github.com/Microsoft/Quantum                    |                                                       |Only simulation                       |\n",
    "|Cirq            |Programming-based  |https://github.com/quantumlib/Cirq                                                          |2018               |Google (but not an official product)            |Python                             |                                                   |https://cirq.readthedocs.io/en/stable/index.html        |                                                       |Only simulation                       |\n",
    "|Ocean SDK       |Programming-based  |https://docs.ocean.dwavesys.com/en/latest/index.html                                        |N/A                |D:Wave                                          |Python                             |Terminal-style                                     |https://github.com/dwavesystems/dwave-ocean-sdk         |                                                       |Only simulation                       |\n",
    "|Pyquil          |Programming-based  |https://github.com/rigetti/pyquil                                                           |2018               |Rigetti                                         |Python                             |                                                   |https://github.com/rigetti/quilc                        |                                                       |Only simulation                       |\n",
    "|Q.js            |Drag and Drop      |https://stewdio.github.io/q.js/index.html                                                   |N/A (probably 2020)|Stewart Smith                                   |JavaScript                         |Python-inspired No installation needed (browser)   |https://github.com/stewdio/q.js                         |No installation needed                                 |Requires quantum gates-level knowledge|\n",
    "|Quirk           |Drag and Drop      |https://algassert.com/quirk                                                                 |2016               |Craig Gidney                                    |JavaScript                         |Browser                                            |https://github.com/Strilanc/Quirk                       |No installation needed                                 |Requires quantum gates-level knowledge|\n",
    "|QUI             |Drag and Drop      |https://qui.research.unimelb.edu.au/#tab13                                                  |2018               |Hollenberg Group at the University of Melbourne.|?                                  |Browser                                            |https://qui.research.unimelb.edu.au/#tab5               |No installation needed                                 |Requires quantum gates-level knowledge|\n",
    "|Scaffold/ScaffCC|Programming-based  |https://github.com/epiqc/ScaffCC                                                            |2012               |                                                |C/C++/Verilog                      |                                                   |https://www.cs.princeton.edu/research/techreps/TR-934-12|Support behavioral-like synatx of quantum agtes        |                                      |\n",
    "|Qrack           |Programming-based  |https://vm6502q.readthedocs.io/en/latest/                                                   |2017               |Daniel Strano                                   |C++                                |                                                   |                                                        |Has support of Qiskit                                  |                                      |\n",
    "|QX Simulator    |QASM-based         |http://quantum-studio.net/#quick_start                                                      |                   |QuTech by Nader Khammassi                       |QASM                               |                                                   |                                                        |                                                       |low-level quantum assembly language   |\n",
    "|Q-kit           |Drag and Drop (GUI)|https://sites.google.com/view/quantum-kit/home                                              |2018               |                                                |QASM-like command line instructions|                                                   |                                                        |Can use Python to genrate command line instructions    |                                      |\n",
    "|Silq            |Programming-based  |https://silq.ethz.ch/documentation                                                          |2020               |ETH Zürich                                      |New open-source                    |                                                   |https://github.com/eth-sri/silq                         |Uses higher level implementation rather than gate level|                                      |\n",
    "|Quipper         |Programming-based  |https://www.mathstat.dal.ca/~selinger/quipper/  "
   ]
  },
  {
   "cell_type": "markdown",
   "metadata": {},
   "source": [
    "# Coding Time\n",
    "---\n",
    "\n",
    "How can we represent qubits in code?\n",
    "\n",
    "Use the Python *Qiskit* Module."
   ]
  },
  {
   "cell_type": "code",
   "execution_count": 1,
   "metadata": {},
   "outputs": [
    {
     "name": "stdout",
     "output_type": "stream",
     "text": [
      "^C\n",
      "Requirement already satisfied: matplotlib in c:\\users\\ayman\\anaconda3\\envs\\sara_sfc\\lib\\site-packages (3.1.1)\n",
      "Requirement already satisfied: cycler>=0.10 in c:\\users\\ayman\\anaconda3\\envs\\sara_sfc\\lib\\site-packages (from matplotlib) (0.10.0)\n",
      "Requirement already satisfied: kiwisolver>=1.0.1 in c:\\users\\ayman\\anaconda3\\envs\\sara_sfc\\lib\\site-packages (from matplotlib) (1.1.0)\n",
      "Requirement already satisfied: pyparsing!=2.0.4,!=2.1.2,!=2.1.6,>=2.0.1 in c:\\users\\ayman\\anaconda3\\envs\\sara_sfc\\lib\\site-packages (from matplotlib) (2.4.5)\n",
      "Requirement already satisfied: python-dateutil>=2.1 in c:\\users\\ayman\\anaconda3\\envs\\sara_sfc\\lib\\site-packages (from matplotlib) (2.8.0)\n",
      "Requirement already satisfied: numpy>=1.11 in c:\\users\\ayman\\anaconda3\\envs\\sara_sfc\\lib\\site-packages (from matplotlib) (1.19.0)\n",
      "Requirement already satisfied: six in c:\\users\\ayman\\anaconda3\\envs\\sara_sfc\\lib\\site-packages (from cycler>=0.10->matplotlib) (1.12.0)\n",
      "Requirement already satisfied: setuptools in c:\\users\\ayman\\appdata\\roaming\\python\\python37\\site-packages (from kiwisolver>=1.0.1->matplotlib) (50.1.0)\n"
     ]
    }
   ],
   "source": [
    "!pip install qiskit\n",
    "!pip install matplotlib"
   ]
  },
  {
   "cell_type": "code",
   "execution_count": 2,
   "metadata": {},
   "outputs": [],
   "source": [
    "#Codes in this notebook are inspired by Quantum Inspire Website\n",
    "#This code is written by: Sara A. Metwalli for the Woman Who Code Python chapter\n",
    "\n",
    "#Libraries needed to implement and simulate quantum circuits\n",
    "from qiskit import QuantumRegister, ClassicalRegister, QuantumCircuit, Aer, execute \n",
    "#Custem functions to simplify answers\n",
    "import Our_Qiskit_Functions as oq #a part of the libabry presented in arXiv:1903.04359v1.\n",
    "\n",
    "\n",
    "#Initialize backends simulators to visualize circuits\n",
    "S_simulator = Aer.backends(name='statevector_simulator')[0]\n",
    "Q_simulator = Aer.backends(name='qasm_simulator')[0]\n",
    "\n",
    "#Create quantum registers (to hold qubits)\n",
    "q = QuantumRegister(2)\n",
    "#Classical register to hold classical bits (Used to measure results)\n",
    "c = ClassicalRegister(2)\n",
    "#Create a quantum circuit using the above registers\n",
    "qc = QuantumCircuit(q,c)"
   ]
  },
  {
   "cell_type": "markdown",
   "metadata": {},
   "source": [
    "# Quantum Gates\n",
    "---\n",
    "\n",
    "Programing quantum computers is now done on a gate level, similar to classical gates.\n",
    "\n",
    "Now\n",
    "\n",
    "Let's talk about most common quantum gates"
   ]
  },
  {
   "cell_type": "markdown",
   "metadata": {},
   "source": [
    "## Identity Operator\n",
    "---\n",
    "\n",
    "The Identity gate (has a symbol I) is a single qubit gate that leaves the state of the qubit unchanged. \n",
    "\n",
    "<img src=\"pics/the-I-gate.gif\">\n",
    "\n"
   ]
  },
  {
   "cell_type": "code",
   "execution_count": 3,
   "metadata": {},
   "outputs": [
    {
     "name": "stderr",
     "output_type": "stream",
     "text": [
      "C:\\Users\\ayman\\AppData\\Roaming\\Python\\Python37\\site-packages\\qiskit\\util.py:109: DeprecationWarning: The QuantumCircuit.iden() method is deprecated as of 0.14.0, and will be removed no earlier than 3 months after that release date. You should use the QuantumCircuit.i() method instead.\n",
      "  return func(*args, **kwargs)\n"
     ]
    },
    {
     "name": "stdout",
     "output_type": "stream",
     "text": [
      "1.0  |00>   \n",
      "1.0  |00>   \n"
     ]
    },
    {
     "data": {
      "image/png": "[encoded data removed]",
      "text/plain": [
       "<Figure size 249.228x204.68 with 1 Axes>"
      ]
     },
     "execution_count": 3,
     "metadata": {},
     "output_type": "execute_result"
    }
   ],
   "source": [
    "#1- Iden operator\n",
    "qc.iden(q[1])\n",
    "print(oq.Wavefunction(qc))\n",
    "qc.draw(output = \"mpl\")"
   ]
  },
  {
   "cell_type": "markdown",
   "metadata": {},
   "source": [
    "## NOT Gate\n",
    "---\n",
    "\n",
    "The NOT gate takes a qubits and flips its state!\n",
    "\n",
    "<img src=\"pics/the-not-gate.gif\">"
   ]
  },
  {
   "cell_type": "code",
   "execution_count": 4,
   "metadata": {},
   "outputs": [
    {
     "name": "stdout",
     "output_type": "stream",
     "text": [
      "1.0  |10>   \n",
      "1.0  |10>   \n"
     ]
    },
    {
     "data": {
      "image/png": "[encoded data removed]",
      "text/plain": [
       "<Figure size 249.228x204.68 with 1 Axes>"
      ]
     },
     "execution_count": 4,
     "metadata": {},
     "output_type": "execute_result"
    }
   ],
   "source": [
    "#2- NOT gate\n",
    "qc.x(q[0])\n",
    "print(oq.Wavefunction(qc))\n",
    "qc.draw(output = \"mpl\")"
   ]
  },
  {
   "cell_type": "markdown",
   "metadata": {},
   "source": [
    "## Controlled-NOT Gate (Toffoli Gate)\n",
    "---\n",
    "\n",
    "The controlled-NOT is a 2-qubit gate that uses one qubit to control the state of the other.\n",
    "\n",
    "<img src=\"pics/the-cnot-gate.gif\">"
   ]
  },
  {
   "cell_type": "code",
   "execution_count": 5,
   "metadata": {},
   "outputs": [
    {
     "name": "stdout",
     "output_type": "stream",
     "text": [
      "1.0  |11>   \n",
      "1.0  |11>   \n"
     ]
    },
    {
     "data": {
      "image/png": "[encoded data removed]",
      "text/plain": [
       "<Figure size 309.428x204.68 with 1 Axes>"
      ]
     },
     "execution_count": 5,
     "metadata": {},
     "output_type": "execute_result"
    }
   ],
   "source": [
    "#3- Controlled-NOT\n",
    "qc.cx(q[0],q[1])\n",
    "print(oq.Wavefunction(qc))\n",
    "qc.draw(output = \"mpl\")"
   ]
  },
  {
   "cell_type": "markdown",
   "metadata": {},
   "source": [
    "## The Hadamard Gate\n",
    "---\n",
    "\n",
    "The Hadamard gate (H) is the magic gate. It is the gate responsible for creating the superposition of states. This gate puts the qubit in 50/50 superposition of states |0⟩ and |1⟩ despite whether the input state was |0⟩ or|1⟩.\n",
    "\n",
    "<img src=\"pics/the-h-gate.gif\">"
   ]
  },
  {
   "cell_type": "code",
   "execution_count": 6,
   "metadata": {},
   "outputs": [
    {
     "name": "stdout",
     "output_type": "stream",
     "text": [
      "0.70711  |00>   -0.70711  |10>   \n",
      "0.70711  |00>   -0.70711  |10>   \n"
     ]
    },
    {
     "data": {
      "image/png": "[encoded data removed]",
      "text/plain": [
       "<Figure size 309.428x204.68 with 1 Axes>"
      ]
     },
     "execution_count": 6,
     "metadata": {},
     "output_type": "execute_result"
    }
   ],
   "source": [
    "qc = QuantumCircuit(q,c)\n",
    "#4- Hadamard\n",
    "qc.x(q[0])\n",
    "qc.h(q[0])\n",
    "print(oq.Wavefunction(qc))\n",
    "qc.draw(output = \"mpl\")"
   ]
  },
  {
   "cell_type": "markdown",
   "metadata": {},
   "source": [
    "# Quantum basis\n",
    "---\n",
    "\n",
    "|0> base is the zero state  \n",
    "|1> base is the one state  \n",
    "|+> base is the Hadamard of the |0> state  \n",
    "|-> base is the Hadamard of the |1> state  \n",
    "\n",
    "\n",
    "<img src=\"pics/5.png\">"
   ]
  },
  {
   "cell_type": "markdown",
   "metadata": {},
   "source": [
    "# Quantum Circuit Simulators\n",
    "---\n",
    "\n",
    "Quantum circuit simulators are special tools that allow you to build and simulate quantum circuits without needing to write any code or perform any mathematical tricks.\n",
    "\n",
    "<a href=\"https://quantum-computing.ibm.com/composer\">IBMQ Experience</a>: IBM offers a drag-and-drop circuit composer that allows you to build your circuits and see the results."
   ]
  },
  {
   "cell_type": "markdown",
   "metadata": {},
   "source": [
    "# Our First Quantum Circuit\n",
    "---\n",
    "Assume we want to create a circuit that flips the last qubit of any given state only if it was 1. For example, the state |1011⟩ would become |1010⟩ because the last bit was 1. However, if the input state is |1100⟩, the circuit won’t make any changes and will return the same state. How can I achieve that?\n",
    "\n",
    "Initially, all qubits are set to the |0⟩ state, so we need to create the starting state, ex, state |1011⟩ first, and then apply some gates to flip the last digit of that state.\n",
    "Before we start, the way states are usually read is from right to left, which in the composer goes from top to bottom.\n",
    "\n",
    "<img src=\"pics/state.png\">\n",
    "\n"
   ]
  },
  {
   "cell_type": "markdown",
   "metadata": {},
   "source": [
    "## Using the simulator\n",
    "---\n",
    "\n",
    "### Steps to solving the problem\n",
    "Step 1: Create the starting|1011⟩ state\n",
    "Flip the last qubit.\n",
    "\n",
    "<img src=\"pics/snip.png\">"
   ]
  },
  {
   "cell_type": "markdown",
   "metadata": {},
   "source": [
    "## Using code\n",
    "---"
   ]
  },
  {
   "cell_type": "code",
   "execution_count": 7,
   "metadata": {},
   "outputs": [
    {
     "data": {
      "image/png": "[encoded data removed]",
      "text/plain": [
       "<Figure size 369.628x385.28 with 1 Axes>"
      ]
     },
     "execution_count": 7,
     "metadata": {},
     "output_type": "execute_result"
    }
   ],
   "source": [
    "#Create the circuit and add tha gates\n",
    "q = QuantumRegister(5)\n",
    "c = ClassicalRegister(4)\n",
    "qc = QuantumCircuit(q,c)\n",
    "qc.x(q[0])\n",
    "qc.x(q[2])\n",
    "qc.x(q[3])\n",
    "qc.cx(q[3],q[4])\n",
    "qc.cx(q[4],q[3])\n",
    "qc.draw(output = \"mpl\")"
   ]
  },
  {
   "cell_type": "code",
   "execution_count": 8,
   "metadata": {},
   "outputs": [
    {
     "data": {
      "text/plain": [
       "'1024|1010>   '"
      ]
     },
     "execution_count": 8,
     "metadata": {},
     "output_type": "execute_result"
    }
   ],
   "source": [
    "#Measure the answer \n",
    "from qiskit.tools.visualization import plot_histogram\n",
    "qc.measure(q[:4],c)\n",
    "oq.Measurement(qc,shots=1024) #Displays measurement in ket-notation "
   ]
  },
  {
   "cell_type": "code",
   "execution_count": 9,
   "metadata": {},
   "outputs": [
    {
     "data": {
      "image/png": "[encoded data removed]",
      "text/plain": [
       "<Figure size 610.428x385.28 with 1 Axes>"
      ]
     },
     "execution_count": 9,
     "metadata": {},
     "output_type": "execute_result"
    }
   ],
   "source": [
    "qc.draw(output = \"mpl\") #Final circuit"
   ]
  },
  {
   "cell_type": "code",
   "execution_count": 10,
   "metadata": {},
   "outputs": [
    {
     "data": {
      "image/png": "[encoded data removed]",
      "text/plain": [
       "<Figure size 504x360 with 1 Axes>"
      ]
     },
     "execution_count": 10,
     "metadata": {},
     "output_type": "execute_result"
    }
   ],
   "source": [
    "#Execute the circuit\n",
    "ex = execute(qc, Q_simulator, shots = 1024)\n",
    "res = ex.result()\n",
    "M = res.get_counts(qc)\n",
    "\n",
    "#Plot the results\n",
    "plot_histogram(M, bar_labels=False)"
   ]
  }
 ],
 "metadata": {
  "kernelspec": {
   "display_name": "Python 3",
   "language": "python",
   "name": "python3"
  },
  "language_info": {
   "codemirror_mode": {
    "name": "ipython",
    "version": 3
   },
   "file_extension": ".py",
   "mimetype": "text/x-python",
   "name": "python",
   "nbconvert_exporter": "python",
   "pygments_lexer": "ipython3",
   "version": "3.7.3"
  },
  "latex_envs": {
   "LaTeX_envs_menu_present": true,
   "autoclose": true,
   "autocomplete": true,
   "bibliofile": "biblio.bib",
   "cite_by": "apalike",
   "current_citInitial": 1,
   "eqLabelWithNumbers": true,
   "eqNumInitial": 1,
   "hotkeys": {
    "equation": "Ctrl-E",
    "itemize": "Ctrl-I"
   },
   "labels_anchors": false,
   "latex_user_defs": false,
   "report_style_numbering": false,
   "user_envs_cfg": false
  },
  "toc": {
   "base_numbering": 1,
   "nav_menu": {},
   "number_sections": true,
   "sideBar": true,
   "skip_h1_title": false,
   "title_cell": "Table of Contents",
   "title_sidebar": "Contents",
   "toc_cell": false,
   "toc_position": {},
   "toc_section_display": true,
   "toc_window_display": false
  }
 },
 "nbformat": 4,
 "nbformat_minor": 2
}
